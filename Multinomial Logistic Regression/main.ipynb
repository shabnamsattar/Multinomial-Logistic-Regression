{
  "nbformat": 4,
  "nbformat_minor": 0,
  "metadata": {
    "colab": {
      "provenance": [],
      "gpuType": "T4"
    },
    "kernelspec": {
      "name": "python3",
      "display_name": "Python 3"
    },
    "language_info": {
      "name": "python"
    },
    "accelerator": "GPU"
  },
  "cells": [
    {
      "cell_type": "code",
      "execution_count": null,
      "metadata": {
        "id": "GgVXzJvC2ybd"
      },
      "outputs": [],
      "source": [
        "import numpy as np"
      ]
    },
    {
      "cell_type": "code",
      "source": [
        "def generate_data():\n",
        "\n",
        "    #Generate random data for A, X, and E matrices.\n",
        "\n",
        "    # Set seed for reproducibility\n",
        "    np.random.seed(123)\n",
        "    A = np.random.randn(1000, 1000)\n",
        "\n",
        "    np.random.seed(42)\n",
        "    X = np.random.randn(1000, 50)\n",
        "\n",
        "    np.random.seed(1234)\n",
        "    E = np.random.randn(1000, 50)\n",
        "\n",
        "    return A, X, E"
      ],
      "metadata": {
        "id": "Agyty9dE3Oo1"
      },
      "execution_count": null,
      "outputs": []
    },
    {
      "cell_type": "code",
      "source": [
        "# Generate random data\n",
        "A, X, E = generate_data()"
      ],
      "metadata": {
        "id": "olBjWDoh3cxS"
      },
      "execution_count": null,
      "outputs": []
    },
    {
      "cell_type": "code",
      "source": [
        "#Generate label for each class\n",
        "b = np.argmax (A @ X + E, axis = 1)"
      ],
      "metadata": {
        "id": "JtnzdupFL3ip"
      },
      "execution_count": null,
      "outputs": []
    },
    {
      "cell_type": "code",
      "source": [
        "exp_matrix = np.exp (np.transpose(X) @ np.transpose (A))\n",
        "S = exp_matrix.sum(axis = 0)"
      ],
      "metadata": {
        "id": "qr1OTJpfQpYa"
      },
      "execution_count": null,
      "outputs": []
    },
    {
      "cell_type": "code",
      "source": [
        "def loss_fun(X):\n",
        "  L = 0\n",
        "  for i in range(len(b)):\n",
        "    L = L + ((X[:, b[i]] @ A[i, :]) + np.log(S[i]))\n",
        "  return L"
      ],
      "metadata": {
        "id": "GZWqJU-UYyd9"
      },
      "execution_count": null,
      "outputs": []
    },
    {
      "cell_type": "code",
      "source": [
        "loss_fun(X)"
      ],
      "metadata": {
        "colab": {
          "base_uri": "https://localhost:8080/"
        },
        "id": "zyCue6Nlc890",
        "outputId": "9102ef27-d8d4-423c-f646-a24a1d38e36d"
      },
      "execution_count": null,
      "outputs": [
        {
          "output_type": "execute_result",
          "data": {
            "text/plain": [
              "142366.95197570705"
            ]
          },
          "metadata": {},
          "execution_count": 7
        }
      ]
    },
    {
      "cell_type": "code",
      "source": [
        "#calculate partial derivative\n",
        "def gradient_jc(j, c):\n",
        "  E = 0\n",
        "  for i in range(1000):\n",
        "    if b[i] == c:\n",
        "      E = E + A[i,j]* exp_matrix[c,i] / S[i]\n",
        "  return E\n"
      ],
      "metadata": {
        "id": "vSz3kcUY20-i"
      },
      "execution_count": null,
      "outputs": []
    },
    {
      "cell_type": "code",
      "source": [
        "def gradient():\n",
        "  for j in range (1000):\n",
        "    for c in range (50):\n",
        "      G[j, c] = gradient_jc(j, c)\n",
        "  return G"
      ],
      "metadata": {
        "id": "u9UXU5QhANsv"
      },
      "execution_count": null,
      "outputs": []
    },
    {
      "cell_type": "code",
      "source": [
        "step_size = 0.1\n",
        "EPSILON = 1e-7\n",
        "G = np.zeros (shape =(1000,50))"
      ],
      "metadata": {
        "id": "L1LJGsFNCmDr"
      },
      "execution_count": null,
      "outputs": []
    },
    {
      "cell_type": "code",
      "source": [
        "n = 0\n",
        "while np.linalg.norm(gradient()) > EPSILON and n < 100:\n",
        "  exp_matrix = np.exp (np.transpose(X) @ np.transpose (A))\n",
        "  S = exp_matrix.sum(axis = 0)\n",
        "  U = gradient()\n",
        "  X = X - (step_size * U)\n",
        "  n = n + 1\n",
        "  print (loss_fun(X), n)\n",
        "\n"
      ],
      "metadata": {
        "id": "S7NAh8n1Bbde",
        "colab": {
          "base_uri": "https://localhost:8080/"
        },
        "outputId": "a348d10c-cdb9-4afd-980d-be5527172f1d"
      },
      "execution_count": null,
      "outputs": [
        {
          "output_type": "stream",
          "name": "stdout",
          "text": [
            "38424.33517578342 1\n",
            "26856.41327622763 2\n",
            "26846.58526466352 3\n"
          ]
        }
      ]
    },
    {
      "cell_type": "code",
      "source": [],
      "metadata": {
        "id": "x2O3QUAoA9fZ"
      },
      "execution_count": null,
      "outputs": []
    }
  ]
}